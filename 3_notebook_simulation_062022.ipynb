{
 "cells": [
  {
   "cell_type": "code",
   "execution_count": 292,
   "metadata": {},
   "outputs": [],
   "source": [
    "import pandas as pd\n",
    "import numpy as np\n",
    "\n",
    "import matplotlib.pyplot as plt\n",
    "import seaborn as sns\n",
    "import datetime\n",
    "\n",
    "%matplotlib inline\n",
    "from sklearn.datasets import make_blobs\n",
    "from sklearn.cluster import KMeans\n",
    "from yellowbrick.cluster import KElbowVisualizer\n",
    "\n",
    "from sklearn.metrics.cluster import adjusted_rand_score\n",
    "\n",
    "from sklearn.preprocessing import StandardScaler"
   ]
  },
  {
   "cell_type": "markdown",
   "metadata": {},
   "source": [
    "## Télécharger des datasets"
   ]
  },
  {
   "cell_type": "markdown",
   "metadata": {},
   "source": [
    "<span style=\"color: #00FFFF\">@ Télécharger le fichier de format csv et puis le palce dans un dataframe nommé `loandown`. Les colonnes du fichier sont uniquement séparées par le caractère de tabulation `/t`. </span> "
   ]
  },
  {
   "cell_type": "code",
   "execution_count": 293,
   "metadata": {},
   "outputs": [],
   "source": [
    "output = pd.read_csv(\"olist-jointure.csv\", sep=',')\n",
    "initial_data = pd.read_csv(\"olist-customers-segmentation-label.csv\", sep=',')"
   ]
  },
  {
   "cell_type": "code",
   "execution_count": 294,
   "metadata": {},
   "outputs": [],
   "source": [
    "initial_data.dtypes;"
   ]
  },
  {
   "cell_type": "code",
   "execution_count": 295,
   "metadata": {},
   "outputs": [],
   "source": [
    "datetime_cols = [\"order_purchase_timestamp\"]\n",
    "for col in datetime_cols:\n",
    "    output[col] = pd.to_datetime(output[col])"
   ]
  },
  {
   "cell_type": "code",
   "execution_count": 296,
   "metadata": {},
   "outputs": [
    {
     "data": {
      "text/plain": [
       "array([0, 1, 2, 3])"
      ]
     },
     "execution_count": 296,
     "metadata": {},
     "output_type": "execute_result"
    }
   ],
   "source": [
    "initial_date = output[\"order_purchase_timestamp\"].max()\n",
    "labels = initial_data[\"kmeans_label\"].values\n",
    "np.unique(labels)"
   ]
  },
  {
   "cell_type": "code",
   "execution_count": 297,
   "metadata": {},
   "outputs": [],
   "source": [
    "X = initial_data.iloc[:,1:5].values\n",
    "scaler = StandardScaler()\n",
    "X_scaled = scaler.fit_transform(X)"
   ]
  },
  {
   "cell_type": "code",
   "execution_count": 298,
   "metadata": {},
   "outputs": [
    {
     "data": {
      "text/html": [
       "<div>\n",
       "<style scoped>\n",
       "    .dataframe tbody tr th:only-of-type {\n",
       "        vertical-align: middle;\n",
       "    }\n",
       "\n",
       "    .dataframe tbody tr th {\n",
       "        vertical-align: top;\n",
       "    }\n",
       "\n",
       "    .dataframe thead th {\n",
       "        text-align: right;\n",
       "    }\n",
       "</style>\n",
       "<table border=\"1\" class=\"dataframe\">\n",
       "  <thead>\n",
       "    <tr style=\"text-align: right;\">\n",
       "      <th></th>\n",
       "      <th>customer_unique_id</th>\n",
       "      <th>order_id</th>\n",
       "      <th>customer_id</th>\n",
       "      <th>order_purchase_timestamp</th>\n",
       "      <th>review_score</th>\n",
       "      <th>payment_value</th>\n",
       "    </tr>\n",
       "  </thead>\n",
       "  <tbody>\n",
       "    <tr>\n",
       "      <th>0</th>\n",
       "      <td>7c396fd4830fd04220f754e42b4e5bff</td>\n",
       "      <td>e481f51cbdc54678b7cc49136f2d6af7</td>\n",
       "      <td>9ef432eb6251297304e76186b10a928d</td>\n",
       "      <td>2017-10-02 10:56:33</td>\n",
       "      <td>4</td>\n",
       "      <td>18.12</td>\n",
       "    </tr>\n",
       "    <tr>\n",
       "      <th>1</th>\n",
       "      <td>7c396fd4830fd04220f754e42b4e5bff</td>\n",
       "      <td>e481f51cbdc54678b7cc49136f2d6af7</td>\n",
       "      <td>9ef432eb6251297304e76186b10a928d</td>\n",
       "      <td>2017-10-02 10:56:33</td>\n",
       "      <td>4</td>\n",
       "      <td>2.00</td>\n",
       "    </tr>\n",
       "    <tr>\n",
       "      <th>2</th>\n",
       "      <td>7c396fd4830fd04220f754e42b4e5bff</td>\n",
       "      <td>e481f51cbdc54678b7cc49136f2d6af7</td>\n",
       "      <td>9ef432eb6251297304e76186b10a928d</td>\n",
       "      <td>2017-10-02 10:56:33</td>\n",
       "      <td>4</td>\n",
       "      <td>18.59</td>\n",
       "    </tr>\n",
       "    <tr>\n",
       "      <th>3</th>\n",
       "      <td>af07308b275d755c9edb36a90c618231</td>\n",
       "      <td>53cdb2fc8bc7dce0b6741e2150273451</td>\n",
       "      <td>b0830fb4747a6c6d20dea0b8c802d7ef</td>\n",
       "      <td>2018-07-24 20:41:37</td>\n",
       "      <td>4</td>\n",
       "      <td>141.46</td>\n",
       "    </tr>\n",
       "    <tr>\n",
       "      <th>4</th>\n",
       "      <td>3a653a41f6f9fc3d2a113cf8398680e8</td>\n",
       "      <td>47770eb9100c2d0c44946d9cf07ec65d</td>\n",
       "      <td>41ce2a54c0b03bf3443c3d931a367089</td>\n",
       "      <td>2018-08-08 08:38:49</td>\n",
       "      <td>5</td>\n",
       "      <td>179.12</td>\n",
       "    </tr>\n",
       "  </tbody>\n",
       "</table>\n",
       "</div>"
      ],
      "text/plain": [
       "                 customer_unique_id                          order_id  \\\n",
       "0  7c396fd4830fd04220f754e42b4e5bff  e481f51cbdc54678b7cc49136f2d6af7   \n",
       "1  7c396fd4830fd04220f754e42b4e5bff  e481f51cbdc54678b7cc49136f2d6af7   \n",
       "2  7c396fd4830fd04220f754e42b4e5bff  e481f51cbdc54678b7cc49136f2d6af7   \n",
       "3  af07308b275d755c9edb36a90c618231  53cdb2fc8bc7dce0b6741e2150273451   \n",
       "4  3a653a41f6f9fc3d2a113cf8398680e8  47770eb9100c2d0c44946d9cf07ec65d   \n",
       "\n",
       "                        customer_id order_purchase_timestamp  review_score  \\\n",
       "0  9ef432eb6251297304e76186b10a928d      2017-10-02 10:56:33             4   \n",
       "1  9ef432eb6251297304e76186b10a928d      2017-10-02 10:56:33             4   \n",
       "2  9ef432eb6251297304e76186b10a928d      2017-10-02 10:56:33             4   \n",
       "3  b0830fb4747a6c6d20dea0b8c802d7ef      2018-07-24 20:41:37             4   \n",
       "4  41ce2a54c0b03bf3443c3d931a367089      2018-08-08 08:38:49             5   \n",
       "\n",
       "   payment_value  \n",
       "0          18.12  \n",
       "1           2.00  \n",
       "2          18.59  \n",
       "3         141.46  \n",
       "4         179.12  "
      ]
     },
     "execution_count": 298,
     "metadata": {},
     "output_type": "execute_result"
    }
   ],
   "source": [
    "output.head()"
   ]
  },
  {
   "cell_type": "code",
   "execution_count": 299,
   "metadata": {},
   "outputs": [
    {
     "data": {
      "text/plain": [
       "Timestamp('2018-10-17 17:30:18')"
      ]
     },
     "execution_count": 299,
     "metadata": {},
     "output_type": "execute_result"
    }
   ],
   "source": [
    "output[\"order_purchase_timestamp\"].max()"
   ]
  },
  {
   "cell_type": "markdown",
   "metadata": {},
   "source": [
    "## Fonctions"
   ]
  },
  {
   "cell_type": "code",
   "execution_count": 300,
   "metadata": {},
   "outputs": [],
   "source": [
    "def data_sythetic(req_data):\n",
    "  output_syn = req_data.groupby(by=\"customer_unique_id\").agg({\"order_id\":'nunique',\n",
    "                                                              \"payment_value\":'sum',\n",
    "                                                              \"review_score\":'mean',\n",
    "                                                            })\n",
    "  output_syn= output_syn.rename(columns ={\"order_id\":\"order_times\",\n",
    "                                    \"payment_value\":\"conso_total\",\n",
    "                                    \"review_score\":\"review_mean\",\n",
    "                                   })\n",
    "\n",
    "  req_data=pd.merge(req_data, output_syn, how='left', on=\"customer_unique_id\")\n",
    "  \n",
    "  import datetime\n",
    "  # le nombre de jours depuis le dernier achat\n",
    "  req_data[\"days_no_purchase\"] = req_data[\"order_purchase_timestamp\"].max()- req_data[\"order_purchase_timestamp\"]\n",
    "  req_data[\"days_no_purchase\"]=round(req_data[\"days_no_purchase\"]/ np.timedelta64(1, 'D'),2)\n",
    "  \n",
    "  req_data.drop_duplicates(subset=\"customer_unique_id\", keep=\"first\", inplace=True)\n",
    "  req_data = req_data[[ 'customer_unique_id','review_mean', 'conso_total','order_times', 'days_no_purchase']]\n",
    "  return req_data\n",
    "  "
   ]
  },
  {
   "cell_type": "code",
   "execution_count": 305,
   "metadata": {},
   "outputs": [],
   "source": [
    "def get_predictions_model (req_data):\n",
    "    req_data = data_sythetic(req_data)\n",
    "    X = req_data.iloc[:,-4:].values\n",
    "    \n",
    "    # on scale les données.\n",
    "    scaler = StandardScaler()\n",
    "    X_scaled = scaler.fit_transform(X)\n",
    "    \n",
    "   \n",
    "    # Instantiate the clustering model KMeans with best K and visualizer \n",
    "    kmeans_model = KMeans(4)\n",
    "    kmeans_model.fit(X_scaled)\n",
    "\n",
    "    # Kmeans labels\n",
    "    req_data[\"kmeans_label\"] = kmeans_model.labels_\n",
    "\n",
    "    return kmeans_model"
   ]
  },
  {
   "cell_type": "markdown",
   "metadata": {},
   "source": [
    "## Prédictions"
   ]
  },
  {
   "cell_type": "code",
   "execution_count": 308,
   "metadata": {},
   "outputs": [
    {
     "name": "stdout",
     "output_type": "stream",
     "text": [
      "Initial label:  [0 1 2 3]\n",
      "Adjusted Rand Index  1 months ago: 0.985\n",
      "Adjusted Rand Index  2 months ago: 0.991\n",
      "Adjusted Rand Index  3 months ago: 0.903\n",
      "Adjusted Rand Index  4 months ago: 0.910\n",
      "Adjusted Rand Index  5 months ago: 0.908\n",
      "Adjusted Rand Index  6 months ago: 0.907\n",
      "Adjusted Rand Index  7 months ago: 0.899\n",
      "Adjusted Rand Index  8 months ago: 0.938\n",
      "Adjusted Rand Index  9 months ago: 0.950\n",
      "Adjusted Rand Index  10 months ago: 0.955\n",
      "Adjusted Rand Index  11 months ago: 0.959\n",
      "Adjusted Rand Index  12 months ago: 0.968\n"
     ]
    }
   ],
   "source": [
    "ARIs = []\n",
    "print(\"Initial label: \", np.unique(labels))\n",
    "for i in range(1,13):\n",
    "      req_data_i_months_ago = output.loc[output[\"order_purchase_timestamp\"]< initial_date + pd.DateOffset(months=-i)]\n",
    "      kmeans_i_months_ago = get_predictions_model(req_data_i_months_ago)\n",
    "      pred_i_months_ago = kmeans_i_months_ago.predict(X_scaled)\n",
    "      print(\"Adjusted Rand Index \",i,\"months ago: %0.3f\"% adjusted_rand_score(pred_i_months_ago, labels))\n",
    "      ARIs.append(\"%0.3f\"% adjusted_rand_score(pred_i_months_ago, labels))"
   ]
  }
 ],
 "metadata": {
  "interpreter": {
   "hash": "31f2aee4e71d21fbe5cf8b01ff0e069b9275f58929596ceb00d14d90e3e16cd6"
  },
  "kernelspec": {
   "display_name": "Python 3.8.10 64-bit",
   "language": "python",
   "name": "python3"
  },
  "language_info": {
   "codemirror_mode": {
    "name": "ipython",
    "version": 3
   },
   "file_extension": ".py",
   "mimetype": "text/x-python",
   "name": "python",
   "nbconvert_exporter": "python",
   "pygments_lexer": "ipython3",
   "version": "3.8.10"
  },
  "orig_nbformat": 4
 },
 "nbformat": 4,
 "nbformat_minor": 2
}
